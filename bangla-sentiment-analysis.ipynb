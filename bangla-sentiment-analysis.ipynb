{
 "cells": [
  {
   "cell_type": "code",
   "execution_count": 1,
   "id": "b06e2ced",
   "metadata": {
    "_cell_guid": "b1076dfc-b9ad-4769-8c92-a6c4dae69d19",
    "_uuid": "8f2839f25d086af736a60e9eeb907d3b93b6e0e5",
    "execution": {
     "iopub.execute_input": "2023-05-31T07:08:14.464737Z",
     "iopub.status.busy": "2023-05-31T07:08:14.464318Z",
     "iopub.status.idle": "2023-05-31T07:08:14.485251Z",
     "shell.execute_reply": "2023-05-31T07:08:14.484091Z"
    },
    "papermill": {
     "duration": 0.034494,
     "end_time": "2023-05-31T07:08:14.487701",
     "exception": false,
     "start_time": "2023-05-31T07:08:14.453207",
     "status": "completed"
    },
    "tags": []
   },
   "outputs": [
    {
     "name": "stdout",
     "output_type": "stream",
     "text": [
      "/kaggle/input/bnlpsentiment-analysis/bn_glove.39M.100d.txt\n",
      "/kaggle/input/bnlpsentiment-analysis/bnwiki_word2vec.model.syn1neg.npy\n",
      "/kaggle/input/bnlpsentiment-analysis/bnwiki_word2vec.vector\n",
      "/kaggle/input/bnlpsentiment-analysis/bnwiki_word2vec.model.wv.vectors.npy\n",
      "/kaggle/input/bnlpsentiment-analysis/banglasentimentanalysis.csv\n",
      "/kaggle/input/bnlpsentiment-analysis/bnwiki_word2vec.model\n"
     ]
    }
   ],
   "source": [
    "# This Python 3 environment comes with many helpful analytics libraries installed\n",
    "# It is defined by the kaggle/python Docker image: https://github.com/kaggle/docker-python\n",
    "# For example, here's several helpful packages to load\n",
    "\n",
    "import numpy as np # linear algebra\n",
    "import pandas as pd # data processing, CSV file I/O (e.g. pd.read_csv)\n",
    "\n",
    "# Input data files are available in the read-only \"../input/\" directory\n",
    "# For example, running this (by clicking run or pressing Shift+Enter) will list all files under the input directory\n",
    "\n",
    "import os\n",
    "for dirname, _, filenames in os.walk('/kaggle/input'):\n",
    "    for filename in filenames:\n",
    "        print(os.path.join(dirname, filename))\n",
    "\n",
    "# You can write up to 20GB to the current directory (/kaggle/working/) that gets preserved as output when you create a version using \"Save & Run All\" \n",
    "# You can also write temporary files to /kaggle/temp/, but they won't be saved outside of the current session"
   ]
  },
  {
   "cell_type": "code",
   "execution_count": 2,
   "id": "5174f93a",
   "metadata": {
    "execution": {
     "iopub.execute_input": "2023-05-31T07:08:14.508100Z",
     "iopub.status.busy": "2023-05-31T07:08:14.507664Z",
     "iopub.status.idle": "2023-05-31T07:08:25.032296Z",
     "shell.execute_reply": "2023-05-31T07:08:25.030933Z"
    },
    "papermill": {
     "duration": 10.538332,
     "end_time": "2023-05-31T07:08:25.035404",
     "exception": false,
     "start_time": "2023-05-31T07:08:14.497072",
     "status": "completed"
    },
    "tags": []
   },
   "outputs": [
    {
     "name": "stderr",
     "output_type": "stream",
     "text": [
      "/opt/conda/lib/python3.10/site-packages/tensorflow_io/python/ops/__init__.py:98: UserWarning: unable to load libtensorflow_io_plugins.so: unable to open file: libtensorflow_io_plugins.so, from paths: ['/opt/conda/lib/python3.10/site-packages/tensorflow_io/python/ops/libtensorflow_io_plugins.so']\n",
      "caused by: ['/opt/conda/lib/python3.10/site-packages/tensorflow_io/python/ops/libtensorflow_io_plugins.so: undefined symbol: _ZN3tsl6StatusC1EN10tensorflow5error4CodeESt17basic_string_viewIcSt11char_traitsIcEENS_14SourceLocationE']\n",
      "  warnings.warn(f\"unable to load libtensorflow_io_plugins.so: {e}\")\n",
      "/opt/conda/lib/python3.10/site-packages/tensorflow_io/python/ops/__init__.py:104: UserWarning: file system plugins are not loaded: unable to open file: libtensorflow_io.so, from paths: ['/opt/conda/lib/python3.10/site-packages/tensorflow_io/python/ops/libtensorflow_io.so']\n",
      "caused by: ['/opt/conda/lib/python3.10/site-packages/tensorflow_io/python/ops/libtensorflow_io.so: undefined symbol: _ZTVN10tensorflow13GcsFileSystemE']\n",
      "  warnings.warn(f\"file system plugins are not loaded: {e}\")\n"
     ]
    }
   ],
   "source": [
    "#Importing dependencies\n",
    "import seaborn as sns\n",
    "import tensorflow as tf\n",
    "from tensorflow.keras.preprocessing.text import Tokenizer\n",
    "from tensorflow.keras.preprocessing.sequence import pad_sequences\n",
    "from keras.utils import to_categorical\n",
    "import matplotlib.pyplot as plt\n",
    "\n",
    "# Training \n",
    "from tensorflow.keras.layers import Embedding\n",
    "from tensorflow.keras.preprocessing.sequence import pad_sequences\n",
    "from tensorflow.keras.preprocessing.text import one_hot\n",
    "from tensorflow.keras.models import Sequential\n",
    "from tensorflow.keras.layers import LSTM,GRU\n",
    "from tensorflow.keras.layers import Dense\n",
    "from tensorflow.keras.layers import Dropout\n",
    "from tensorflow.keras.layers import Bidirectional\n",
    "from tensorflow.keras.layers import Conv1D\n",
    "from tensorflow.keras.layers import MaxPooling1D,GlobalMaxPool1D\n",
    "from tensorflow.keras.regularizers import l2"
   ]
  },
  {
   "cell_type": "code",
   "execution_count": 3,
   "id": "f85a15e0",
   "metadata": {
    "execution": {
     "iopub.execute_input": "2023-05-31T07:08:25.056865Z",
     "iopub.status.busy": "2023-05-31T07:08:25.055700Z",
     "iopub.status.idle": "2023-05-31T07:08:25.194966Z",
     "shell.execute_reply": "2023-05-31T07:08:25.193911Z"
    },
    "papermill": {
     "duration": 0.152721,
     "end_time": "2023-05-31T07:08:25.197760",
     "exception": false,
     "start_time": "2023-05-31T07:08:25.045039",
     "status": "completed"
    },
    "tags": []
   },
   "outputs": [
    {
     "data": {
      "text/html": [
       "<div>\n",
       "<style scoped>\n",
       "    .dataframe tbody tr th:only-of-type {\n",
       "        vertical-align: middle;\n",
       "    }\n",
       "\n",
       "    .dataframe tbody tr th {\n",
       "        vertical-align: top;\n",
       "    }\n",
       "\n",
       "    .dataframe thead th {\n",
       "        text-align: right;\n",
       "    }\n",
       "</style>\n",
       "<table border=\"1\" class=\"dataframe\">\n",
       "  <thead>\n",
       "    <tr style=\"text-align: right;\">\n",
       "      <th></th>\n",
       "      <th>Unnamed: 0</th>\n",
       "      <th>Reviews</th>\n",
       "      <th>Label</th>\n",
       "    </tr>\n",
       "  </thead>\n",
       "  <tbody>\n",
       "    <tr>\n",
       "      <th>0</th>\n",
       "      <td>0</td>\n",
       "      <td>অনেক সুন্দর নাটক</td>\n",
       "      <td>1.0</td>\n",
       "    </tr>\n",
       "    <tr>\n",
       "      <th>1</th>\n",
       "      <td>1</td>\n",
       "      <td>সত্যি গল্পটা অনেক ভালো ছিল।কিছু কিছু মানুসের ...</td>\n",
       "      <td>1.0</td>\n",
       "    </tr>\n",
       "    <tr>\n",
       "      <th>2</th>\n",
       "      <td>2</td>\n",
       "      <td>ভাদামো মোসারফ করিম। 🤤</td>\n",
       "      <td>0.0</td>\n",
       "    </tr>\n",
       "    <tr>\n",
       "      <th>3</th>\n",
       "      <td>3</td>\n",
       "      <td>বালের নাটক</td>\n",
       "      <td>0.0</td>\n",
       "    </tr>\n",
       "    <tr>\n",
       "      <th>4</th>\n",
       "      <td>4</td>\n",
       "      <td>ফালতু নাটক</td>\n",
       "      <td>0.0</td>\n",
       "    </tr>\n",
       "  </tbody>\n",
       "</table>\n",
       "</div>"
      ],
      "text/plain": [
       "   Unnamed: 0                                            Reviews  Label\n",
       "0           0                                   অনেক সুন্দর নাটক    1.0\n",
       "1           1   সত্যি গল্পটা অনেক ভালো ছিল।কিছু কিছু মানুসের ...    1.0\n",
       "2           2                              ভাদামো মোসারফ করিম। 🤤    0.0\n",
       "3           3                                         বালের নাটক    0.0\n",
       "4           4                                         ফালতু নাটক    0.0"
      ]
     },
     "execution_count": 3,
     "metadata": {},
     "output_type": "execute_result"
    }
   ],
   "source": [
    "df = pd.read_csv('/kaggle/input/bnlpsentiment-analysis/banglasentimentanalysis.csv')\n",
    "df.head()"
   ]
  },
  {
   "cell_type": "code",
   "execution_count": 4,
   "id": "5cfd6922",
   "metadata": {
    "execution": {
     "iopub.execute_input": "2023-05-31T07:08:25.220426Z",
     "iopub.status.busy": "2023-05-31T07:08:25.220043Z",
     "iopub.status.idle": "2023-05-31T07:08:25.237657Z",
     "shell.execute_reply": "2023-05-31T07:08:25.236719Z"
    },
    "papermill": {
     "duration": 0.030724,
     "end_time": "2023-05-31T07:08:25.239789",
     "exception": false,
     "start_time": "2023-05-31T07:08:25.209065",
     "status": "completed"
    },
    "tags": []
   },
   "outputs": [
    {
     "data": {
      "text/html": [
       "<div>\n",
       "<style scoped>\n",
       "    .dataframe tbody tr th:only-of-type {\n",
       "        vertical-align: middle;\n",
       "    }\n",
       "\n",
       "    .dataframe tbody tr th {\n",
       "        vertical-align: top;\n",
       "    }\n",
       "\n",
       "    .dataframe thead th {\n",
       "        text-align: right;\n",
       "    }\n",
       "</style>\n",
       "<table border=\"1\" class=\"dataframe\">\n",
       "  <thead>\n",
       "    <tr style=\"text-align: right;\">\n",
       "      <th></th>\n",
       "      <th>Reviews</th>\n",
       "      <th>Label</th>\n",
       "    </tr>\n",
       "  </thead>\n",
       "  <tbody>\n",
       "    <tr>\n",
       "      <th>0</th>\n",
       "      <td>অনেক সুন্দর নাটক</td>\n",
       "      <td>1.0</td>\n",
       "    </tr>\n",
       "    <tr>\n",
       "      <th>1</th>\n",
       "      <td>সত্যি গল্পটা অনেক ভালো ছিল।কিছু কিছু মানুসের ...</td>\n",
       "      <td>1.0</td>\n",
       "    </tr>\n",
       "    <tr>\n",
       "      <th>2</th>\n",
       "      <td>ভাদামো মোসারফ করিম। 🤤</td>\n",
       "      <td>0.0</td>\n",
       "    </tr>\n",
       "    <tr>\n",
       "      <th>3</th>\n",
       "      <td>বালের নাটক</td>\n",
       "      <td>0.0</td>\n",
       "    </tr>\n",
       "    <tr>\n",
       "      <th>4</th>\n",
       "      <td>ফালতু নাটক</td>\n",
       "      <td>0.0</td>\n",
       "    </tr>\n",
       "  </tbody>\n",
       "</table>\n",
       "</div>"
      ],
      "text/plain": [
       "                                             Reviews  Label\n",
       "0                                   অনেক সুন্দর নাটক    1.0\n",
       "1   সত্যি গল্পটা অনেক ভালো ছিল।কিছু কিছু মানুসের ...    1.0\n",
       "2                              ভাদামো মোসারফ করিম। 🤤    0.0\n",
       "3                                         বালের নাটক    0.0\n",
       "4                                         ফালতু নাটক    0.0"
      ]
     },
     "execution_count": 4,
     "metadata": {},
     "output_type": "execute_result"
    }
   ],
   "source": [
    "#Removing index column\n",
    "# df = pd.DataFrame(df)\n",
    "df = df.drop(['Unnamed: 0'],axis=1)\n",
    "df.head()"
   ]
  },
  {
   "cell_type": "code",
   "execution_count": 5,
   "id": "725b50e2",
   "metadata": {
    "execution": {
     "iopub.execute_input": "2023-05-31T07:08:25.261282Z",
     "iopub.status.busy": "2023-05-31T07:08:25.260410Z",
     "iopub.status.idle": "2023-05-31T07:08:25.275523Z",
     "shell.execute_reply": "2023-05-31T07:08:25.274159Z"
    },
    "papermill": {
     "duration": 0.028947,
     "end_time": "2023-05-31T07:08:25.278433",
     "exception": false,
     "start_time": "2023-05-31T07:08:25.249486",
     "status": "completed"
    },
    "tags": []
   },
   "outputs": [
    {
     "data": {
      "text/plain": [
       "Reviews    4\n",
       "Label      2\n",
       "dtype: int64"
      ]
     },
     "execution_count": 5,
     "metadata": {},
     "output_type": "execute_result"
    }
   ],
   "source": [
    "# Null value check\n",
    "df.isnull().sum()"
   ]
  },
  {
   "cell_type": "code",
   "execution_count": 6,
   "id": "575e8aab",
   "metadata": {
    "execution": {
     "iopub.execute_input": "2023-05-31T07:08:25.300561Z",
     "iopub.status.busy": "2023-05-31T07:08:25.299882Z",
     "iopub.status.idle": "2023-05-31T07:08:25.321177Z",
     "shell.execute_reply": "2023-05-31T07:08:25.319980Z"
    },
    "papermill": {
     "duration": 0.035274,
     "end_time": "2023-05-31T07:08:25.323710",
     "exception": false,
     "start_time": "2023-05-31T07:08:25.288436",
     "status": "completed"
    },
    "tags": []
   },
   "outputs": [
    {
     "data": {
      "text/plain": [
       "Reviews    0\n",
       "Label      0\n",
       "dtype: int64"
      ]
     },
     "execution_count": 6,
     "metadata": {},
     "output_type": "execute_result"
    }
   ],
   "source": [
    "df.dropna(axis=0, how='any', subset=['Reviews', 'Label'], inplace=True)\n",
    "df.isnull().sum()"
   ]
  },
  {
   "cell_type": "code",
   "execution_count": 7,
   "id": "c45e439c",
   "metadata": {
    "execution": {
     "iopub.execute_input": "2023-05-31T07:08:25.346715Z",
     "iopub.status.busy": "2023-05-31T07:08:25.346293Z",
     "iopub.status.idle": "2023-05-31T07:08:25.358549Z",
     "shell.execute_reply": "2023-05-31T07:08:25.357188Z"
    },
    "papermill": {
     "duration": 0.026439,
     "end_time": "2023-05-31T07:08:25.360754",
     "exception": false,
     "start_time": "2023-05-31T07:08:25.334315",
     "status": "completed"
    },
    "tags": []
   },
   "outputs": [
    {
     "name": "stdout",
     "output_type": "stream",
     "text": [
      "[1. 0.]\n",
      "[1 0]\n"
     ]
    }
   ],
   "source": [
    "# Changing the 'Label' type\n",
    "print(df.Label.unique())\n",
    "df[\"Label\"]=df[\"Label\"].astype(int)\n",
    "print(df.Label.unique())"
   ]
  },
  {
   "cell_type": "code",
   "execution_count": 8,
   "id": "31ee5f8d",
   "metadata": {
    "execution": {
     "iopub.execute_input": "2023-05-31T07:08:25.383691Z",
     "iopub.status.busy": "2023-05-31T07:08:25.382585Z",
     "iopub.status.idle": "2023-05-31T07:08:25.658348Z",
     "shell.execute_reply": "2023-05-31T07:08:25.657172Z"
    },
    "papermill": {
     "duration": 0.290017,
     "end_time": "2023-05-31T07:08:25.661254",
     "exception": false,
     "start_time": "2023-05-31T07:08:25.371237",
     "status": "completed"
    },
    "tags": []
   },
   "outputs": [
    {
     "data": {
      "text/plain": [
       "<Axes: xlabel='Label', ylabel='count'>"
      ]
     },
     "execution_count": 8,
     "metadata": {},
     "output_type": "execute_result"
    },
    {
     "data": {
      "image/png": "[encoded data removed]",
      "text/plain": [
       "<Figure size 640x480 with 1 Axes>"
      ]
     },
     "metadata": {},
     "output_type": "display_data"
    }
   ],
   "source": [
    "# Check if oversampling or undersampling required\n",
    "sns.countplot(x=\"Label\",data = df)"
   ]
  },
  {
   "cell_type": "code",
   "execution_count": 9,
   "id": "8234a843",
   "metadata": {
    "execution": {
     "iopub.execute_input": "2023-05-31T07:08:25.687552Z",
     "iopub.status.busy": "2023-05-31T07:08:25.686403Z",
     "iopub.status.idle": "2023-05-31T07:08:25.692035Z",
     "shell.execute_reply": "2023-05-31T07:08:25.690971Z"
    },
    "papermill": {
     "duration": 0.020485,
     "end_time": "2023-05-31T07:08:25.694198",
     "exception": false,
     "start_time": "2023-05-31T07:08:25.673713",
     "status": "completed"
    },
    "tags": []
   },
   "outputs": [],
   "source": [
    "review = df.Reviews\n",
    "label = df.Label"
   ]
  },
  {
   "cell_type": "code",
   "execution_count": 10,
   "id": "731f3bad",
   "metadata": {
    "execution": {
     "iopub.execute_input": "2023-05-31T07:08:25.718347Z",
     "iopub.status.busy": "2023-05-31T07:08:25.717133Z",
     "iopub.status.idle": "2023-05-31T07:08:26.411105Z",
     "shell.execute_reply": "2023-05-31T07:08:26.409732Z"
    },
    "papermill": {
     "duration": 0.709064,
     "end_time": "2023-05-31T07:08:26.414213",
     "exception": false,
     "start_time": "2023-05-31T07:08:25.705149",
     "status": "completed"
    },
    "tags": []
   },
   "outputs": [
    {
     "data": {
      "text/plain": [
       "19127"
      ]
     },
     "execution_count": 10,
     "metadata": {},
     "output_type": "execute_result"
    }
   ],
   "source": [
    "# Tokenizing the given reviews\n",
    "max_words = 4000\n",
    "max_review_len = 128\n",
    "tokenizer = Tokenizer(num_words=max_words)\n",
    "tokenizer.fit_on_texts(review)\n",
    "# word_index\n",
    "sequences = tokenizer.texts_to_sequences(review)\n",
    "word_index = tokenizer.word_index\n",
    "# word_index\n",
    "len(word_index)"
   ]
  },
  {
   "cell_type": "code",
   "execution_count": 11,
   "id": "59b7c79d",
   "metadata": {
    "execution": {
     "iopub.execute_input": "2023-05-31T07:08:26.438256Z",
     "iopub.status.busy": "2023-05-31T07:08:26.437383Z",
     "iopub.status.idle": "2023-05-31T07:08:26.450436Z",
     "shell.execute_reply": "2023-05-31T07:08:26.449249Z"
    },
    "papermill": {
     "duration": 0.02748,
     "end_time": "2023-05-31T07:08:26.452635",
     "exception": false,
     "start_time": "2023-05-31T07:08:26.425155",
     "status": "completed"
    },
    "tags": []
   },
   "outputs": [
    {
     "data": {
      "text/plain": [
       "219"
      ]
     },
     "execution_count": 11,
     "metadata": {},
     "output_type": "execute_result"
    }
   ],
   "source": [
    "# Maximum words in a sequence\n",
    "max_length = 0\n",
    "\n",
    "for review_num in range(len(sequences)):\n",
    "#     print(len(onehot_rep[review_num]))\n",
    "    if len(sequences[review_num]) > max_length:\n",
    "        max_length = len(sequences[review_num])\n",
    "max_length"
   ]
  },
  {
   "cell_type": "code",
   "execution_count": 12,
   "id": "24b9db71",
   "metadata": {
    "execution": {
     "iopub.execute_input": "2023-05-31T07:08:26.476848Z",
     "iopub.status.busy": "2023-05-31T07:08:26.476095Z",
     "iopub.status.idle": "2023-05-31T07:08:26.549172Z",
     "shell.execute_reply": "2023-05-31T07:08:26.548008Z"
    },
    "papermill": {
     "duration": 0.087907,
     "end_time": "2023-05-31T07:08:26.551587",
     "exception": false,
     "start_time": "2023-05-31T07:08:26.463680",
     "status": "completed"
    },
    "tags": []
   },
   "outputs": [
    {
     "name": "stdout",
     "output_type": "stream",
     "text": [
      "[[   0    0    0 ...    3    5    1]\n",
      " [   0    0    0 ...  654   70  905]\n",
      " [   0    0    0 ...    0 1743 3439]\n",
      " ...\n",
      " [   0    0    0 ...   14   55    8]\n",
      " [   0    0    0 ...   48   20  556]\n",
      " [   0    0    0 ...   92  407  596]]\n"
     ]
    },
    {
     "data": {
      "text/plain": [
       "(11807, 128)"
      ]
     },
     "execution_count": 12,
     "metadata": {},
     "output_type": "execute_result"
    }
   ],
   "source": [
    "# Padding the sequence\n",
    "data = pad_sequences(sequences, maxlen=max_review_len)\n",
    "print(data)\n",
    "data.shape"
   ]
  },
  {
   "cell_type": "code",
   "execution_count": 13,
   "id": "eeefa8d4",
   "metadata": {
    "execution": {
     "iopub.execute_input": "2023-05-31T07:08:26.576933Z",
     "iopub.status.busy": "2023-05-31T07:08:26.575653Z",
     "iopub.status.idle": "2023-05-31T07:08:33.187492Z",
     "shell.execute_reply": "2023-05-31T07:08:33.186354Z"
    },
    "papermill": {
     "duration": 6.627504,
     "end_time": "2023-05-31T07:08:33.190429",
     "exception": false,
     "start_time": "2023-05-31T07:08:26.562925",
     "status": "completed"
    },
    "tags": []
   },
   "outputs": [
    {
     "data": {
      "text/plain": [
       "178153"
      ]
     },
     "execution_count": 13,
     "metadata": {},
     "output_type": "execute_result"
    }
   ],
   "source": [
    "# Embedding\n",
    "file = open('/kaggle/input/bnlpsentiment-analysis/bn_glove.39M.100d.txt')\n",
    "embedding_list = {}\n",
    "for i in file:\n",
    "    line = i.split()\n",
    "#     print(line[0])\n",
    "    word = line[0]\n",
    "    values = np.asarray(line[1:], dtype='float32')\n",
    "    embedding_list[word] = values\n",
    "file.close()\n",
    "# embedding_list['এবং'].dtype\n",
    "len(embedding_list)"
   ]
  },
  {
   "cell_type": "code",
   "execution_count": 14,
   "id": "2cf2e760",
   "metadata": {
    "execution": {
     "iopub.execute_input": "2023-05-31T07:08:33.215062Z",
     "iopub.status.busy": "2023-05-31T07:08:33.214634Z",
     "iopub.status.idle": "2023-05-31T07:08:33.224393Z",
     "shell.execute_reply": "2023-05-31T07:08:33.223248Z"
    },
    "papermill": {
     "duration": 0.024789,
     "end_time": "2023-05-31T07:08:33.226763",
     "exception": false,
     "start_time": "2023-05-31T07:08:33.201974",
     "status": "completed"
    },
    "tags": []
   },
   "outputs": [
    {
     "data": {
      "text/plain": [
       "(19128, 100)"
      ]
     },
     "execution_count": 14,
     "metadata": {},
     "output_type": "execute_result"
    }
   ],
   "source": [
    "embedding_dim = 100 \n",
    "embedding_matrix = np.zeros((len(word_index)+1, embedding_dim))\n",
    "embedding_matrix.shape"
   ]
  },
  {
   "cell_type": "code",
   "execution_count": 15,
   "id": "62cb52bc",
   "metadata": {
    "execution": {
     "iopub.execute_input": "2023-05-31T07:08:33.251898Z",
     "iopub.status.busy": "2023-05-31T07:08:33.251435Z",
     "iopub.status.idle": "2023-05-31T07:08:33.297060Z",
     "shell.execute_reply": "2023-05-31T07:08:33.295718Z"
    },
    "papermill": {
     "duration": 0.06171,
     "end_time": "2023-05-31T07:08:33.300019",
     "exception": false,
     "start_time": "2023-05-31T07:08:33.238309",
     "status": "completed"
    },
    "tags": []
   },
   "outputs": [
    {
     "data": {
      "text/plain": [
       "(100,)"
      ]
     },
     "execution_count": 15,
     "metadata": {},
     "output_type": "execute_result"
    }
   ],
   "source": [
    "# Creating weight matrix of word\n",
    "for word,i in word_index.items():\n",
    "    embedding_vector = embedding_list.get(word)\n",
    "    if embedding_vector is not None:\n",
    "        embedding_matrix[i] = embedding_vector\n",
    "embedding_matrix[10].shape\n",
    "# word_index.items()"
   ]
  },
  {
   "cell_type": "code",
   "execution_count": 16,
   "id": "2335a882",
   "metadata": {
    "execution": {
     "iopub.execute_input": "2023-05-31T07:08:33.325214Z",
     "iopub.status.busy": "2023-05-31T07:08:33.324781Z",
     "iopub.status.idle": "2023-05-31T07:08:33.329958Z",
     "shell.execute_reply": "2023-05-31T07:08:33.328678Z"
    },
    "papermill": {
     "duration": 0.020673,
     "end_time": "2023-05-31T07:08:33.332471",
     "exception": false,
     "start_time": "2023-05-31T07:08:33.311798",
     "status": "completed"
    },
    "tags": []
   },
   "outputs": [],
   "source": [
    "# Convolution\n",
    "kernel_size = 3\n",
    "filters = 32"
   ]
  },
  {
   "cell_type": "code",
   "execution_count": 17,
   "id": "3900f0c3",
   "metadata": {
    "execution": {
     "iopub.execute_input": "2023-05-31T07:08:33.357810Z",
     "iopub.status.busy": "2023-05-31T07:08:33.357413Z",
     "iopub.status.idle": "2023-05-31T07:08:34.260046Z",
     "shell.execute_reply": "2023-05-31T07:08:34.258843Z"
    },
    "papermill": {
     "duration": 0.918474,
     "end_time": "2023-05-31T07:08:34.262890",
     "exception": false,
     "start_time": "2023-05-31T07:08:33.344416",
     "status": "completed"
    },
    "tags": []
   },
   "outputs": [
    {
     "name": "stdout",
     "output_type": "stream",
     "text": [
      "Model: \"sequential\"\n",
      "_________________________________________________________________\n",
      " Layer (type)                Output Shape              Param #   \n",
      "=================================================================\n",
      " embedding (Embedding)       (None, 128, 100)          1912800   \n",
      "                                                                 \n",
      " lstm (LSTM)                 (None, 128, 128)          117248    \n",
      "                                                                 \n",
      " conv1d (Conv1D)             (None, 128, 32)           12320     \n",
      "                                                                 \n",
      " global_max_pooling1d (Globa  (None, 32)               0         \n",
      " lMaxPooling1D)                                                  \n",
      "                                                                 \n",
      " dense (Dense)               (None, 32)                1056      \n",
      "                                                                 \n",
      " dropout (Dropout)           (None, 32)                0         \n",
      "                                                                 \n",
      " dense_1 (Dense)             (None, 2)                 66        \n",
      "                                                                 \n",
      "=================================================================\n",
      "Total params: 2,043,490\n",
      "Trainable params: 130,690\n",
      "Non-trainable params: 1,912,800\n",
      "_________________________________________________________________\n"
     ]
    },
    {
     "data": {
      "image/png": "[encoded data removed]",
      "text/plain": [
       "<IPython.core.display.Image object>"
      ]
     },
     "execution_count": 17,
     "metadata": {},
     "output_type": "execute_result"
    }
   ],
   "source": [
    "voc_size = len(word_index)+1\n",
    "\n",
    "model_1 = Sequential()\n",
    "model_1.add(Embedding(voc_size,embedding_dim,weights=[embedding_matrix],input_length=max_review_len,trainable=False))\n",
    "model_1.add(LSTM(128,dropout=0.2,return_sequences=True))\n",
    "model_1.add(Conv1D(filters, kernel_size, padding='same', activation='relu'))\n",
    "model_1.add(GlobalMaxPool1D())\n",
    "model_1.add(Dense(32,activation = 'relu',kernel_regularizer = l2(0.001)))\n",
    "model_1.add(Dropout(0.2))\n",
    "model_1.add(Dense(2,activation='softmax'))\n",
    "model_1.compile(loss='binary_crossentropy', optimizer='adam', metrics=['accuracy'])\n",
    "model_1.summary()\n",
    "tf.keras.utils.plot_model(model_1, to_file='model.png', show_shapes=True)"
   ]
  },
  {
   "cell_type": "code",
   "execution_count": 18,
   "id": "fbf9bf8a",
   "metadata": {
    "execution": {
     "iopub.execute_input": "2023-05-31T07:08:34.295819Z",
     "iopub.status.busy": "2023-05-31T07:08:34.295391Z",
     "iopub.status.idle": "2023-05-31T07:08:34.583187Z",
     "shell.execute_reply": "2023-05-31T07:08:34.582122Z"
    },
    "papermill": {
     "duration": 0.307313,
     "end_time": "2023-05-31T07:08:34.586171",
     "exception": false,
     "start_time": "2023-05-31T07:08:34.278858",
     "status": "completed"
    },
    "tags": []
   },
   "outputs": [],
   "source": [
    "# Splitting dataset for Training & Test\n",
    "from sklearn.model_selection import train_test_split\n",
    "x = data\n",
    "y = label\n",
    "X_train, X_test, y_train, y_test = train_test_split(x, y, test_size = 0.2, random_state = 0)"
   ]
  },
  {
   "cell_type": "code",
   "execution_count": 19,
   "id": "c6ccd326",
   "metadata": {
    "execution": {
     "iopub.execute_input": "2023-05-31T07:08:34.619412Z",
     "iopub.status.busy": "2023-05-31T07:08:34.618313Z",
     "iopub.status.idle": "2023-05-31T07:08:34.624618Z",
     "shell.execute_reply": "2023-05-31T07:08:34.623556Z"
    },
    "papermill": {
     "duration": 0.025387,
     "end_time": "2023-05-31T07:08:34.627277",
     "exception": false,
     "start_time": "2023-05-31T07:08:34.601890",
     "status": "completed"
    },
    "tags": []
   },
   "outputs": [
    {
     "name": "stdout",
     "output_type": "stream",
     "text": [
      "(9445, 128)\n",
      "(9445,)\n",
      "(2362, 128)\n",
      "(2362,)\n"
     ]
    }
   ],
   "source": [
    "print(X_train.shape)\n",
    "print(y_train.shape)\n",
    "print(X_test.shape)\n",
    "print(y_test.shape)"
   ]
  },
  {
   "cell_type": "code",
   "execution_count": 20,
   "id": "dfa673ea",
   "metadata": {
    "execution": {
     "iopub.execute_input": "2023-05-31T07:08:34.660163Z",
     "iopub.status.busy": "2023-05-31T07:08:34.659725Z",
     "iopub.status.idle": "2023-05-31T07:08:34.666658Z",
     "shell.execute_reply": "2023-05-31T07:08:34.665405Z"
    },
    "papermill": {
     "duration": 0.026379,
     "end_time": "2023-05-31T07:08:34.669008",
     "exception": false,
     "start_time": "2023-05-31T07:08:34.642629",
     "status": "completed"
    },
    "tags": []
   },
   "outputs": [
    {
     "name": "stdout",
     "output_type": "stream",
     "text": [
      "(9445, 128)\n",
      "(9445, 2)\n",
      "(2362, 128)\n",
      "(2362, 2)\n"
     ]
    }
   ],
   "source": [
    "y_test = to_categorical(y_test)\n",
    "y_train = to_categorical(y_train)\n",
    "\n",
    "print(X_train.shape)\n",
    "print(y_train.shape)\n",
    "print(X_test.shape)\n",
    "print(y_test.shape)"
   ]
  },
  {
   "cell_type": "code",
   "execution_count": 21,
   "id": "b87cca8c",
   "metadata": {
    "execution": {
     "iopub.execute_input": "2023-05-31T07:08:34.703355Z",
     "iopub.status.busy": "2023-05-31T07:08:34.702233Z",
     "iopub.status.idle": "2023-05-31T07:08:34.708810Z",
     "shell.execute_reply": "2023-05-31T07:08:34.708018Z"
    },
    "papermill": {
     "duration": 0.02633,
     "end_time": "2023-05-31T07:08:34.711222",
     "exception": false,
     "start_time": "2023-05-31T07:08:34.684892",
     "status": "completed"
    },
    "tags": []
   },
   "outputs": [],
   "source": [
    "# Early stopping callback & reduction of learning rate\n",
    "from keras.callbacks import EarlyStopping,ReduceLROnPlateau\n",
    "early_stopping_callback = EarlyStopping(monitor='val_loss', patience=10, mode='min',restore_best_weights=True)\n",
    "learning_rate_reduction = ReduceLROnPlateau(monitor='loss',patience=4,verbose=1,factor=0.5,min_lr=0.00001)\n",
    "callbacks = [early_stopping_callback,learning_rate_reduction]"
   ]
  },
  {
   "cell_type": "code",
   "execution_count": 22,
   "id": "35cf2cf3",
   "metadata": {
    "execution": {
     "iopub.execute_input": "2023-05-31T07:08:34.745020Z",
     "iopub.status.busy": "2023-05-31T07:08:34.743624Z",
     "iopub.status.idle": "2023-05-31T07:16:59.285150Z",
     "shell.execute_reply": "2023-05-31T07:16:59.284007Z"
    },
    "papermill": {
     "duration": 504.561155,
     "end_time": "2023-05-31T07:16:59.288200",
     "exception": false,
     "start_time": "2023-05-31T07:08:34.727045",
     "status": "completed"
    },
    "tags": []
   },
   "outputs": [
    {
     "name": "stdout",
     "output_type": "stream",
     "text": [
      "Epoch 1/20\n",
      "148/148 [==============================] - 35s 214ms/step - loss: 0.4252 - accuracy: 0.8192 - val_loss: 0.3118 - val_accuracy: 0.8658 - lr: 0.0010\n",
      "Epoch 2/20\n",
      "148/148 [==============================] - 31s 209ms/step - loss: 0.2946 - accuracy: 0.8803 - val_loss: 0.2636 - val_accuracy: 0.8899 - lr: 0.0010\n",
      "Epoch 3/20\n",
      "148/148 [==============================] - 31s 210ms/step - loss: 0.2497 - accuracy: 0.9010 - val_loss: 0.2306 - val_accuracy: 0.9081 - lr: 0.0010\n",
      "Epoch 4/20\n",
      "148/148 [==============================] - 31s 210ms/step - loss: 0.2235 - accuracy: 0.9128 - val_loss: 0.2167 - val_accuracy: 0.9200 - lr: 0.0010\n",
      "Epoch 5/20\n",
      "148/148 [==============================] - 31s 211ms/step - loss: 0.2056 - accuracy: 0.9214 - val_loss: 0.2074 - val_accuracy: 0.9242 - lr: 0.0010\n",
      "Epoch 6/20\n",
      "148/148 [==============================] - 31s 212ms/step - loss: 0.1790 - accuracy: 0.9325 - val_loss: 0.1957 - val_accuracy: 0.9323 - lr: 0.0010\n",
      "Epoch 7/20\n",
      "148/148 [==============================] - 31s 211ms/step - loss: 0.1688 - accuracy: 0.9373 - val_loss: 0.2008 - val_accuracy: 0.9259 - lr: 0.0010\n",
      "Epoch 8/20\n",
      "148/148 [==============================] - 31s 210ms/step - loss: 0.1552 - accuracy: 0.9431 - val_loss: 0.2018 - val_accuracy: 0.9263 - lr: 0.0010\n",
      "Epoch 9/20\n",
      "148/148 [==============================] - 31s 210ms/step - loss: 0.1424 - accuracy: 0.9493 - val_loss: 0.2155 - val_accuracy: 0.9242 - lr: 0.0010\n",
      "Epoch 10/20\n",
      "148/148 [==============================] - 31s 211ms/step - loss: 0.1245 - accuracy: 0.9530 - val_loss: 0.2130 - val_accuracy: 0.9280 - lr: 0.0010\n",
      "Epoch 11/20\n",
      "148/148 [==============================] - 31s 212ms/step - loss: 0.1159 - accuracy: 0.9572 - val_loss: 0.2215 - val_accuracy: 0.9183 - lr: 0.0010\n",
      "Epoch 12/20\n",
      "148/148 [==============================] - 31s 212ms/step - loss: 0.1011 - accuracy: 0.9634 - val_loss: 0.2272 - val_accuracy: 0.9229 - lr: 0.0010\n",
      "Epoch 13/20\n",
      "148/148 [==============================] - 31s 212ms/step - loss: 0.0953 - accuracy: 0.9660 - val_loss: 0.2249 - val_accuracy: 0.9272 - lr: 0.0010\n",
      "Epoch 14/20\n",
      "148/148 [==============================] - 32s 214ms/step - loss: 0.0880 - accuracy: 0.9687 - val_loss: 0.2432 - val_accuracy: 0.9234 - lr: 0.0010\n",
      "Epoch 15/20\n",
      "148/148 [==============================] - 32s 213ms/step - loss: 0.0820 - accuracy: 0.9717 - val_loss: 0.2389 - val_accuracy: 0.9208 - lr: 0.0010\n",
      "Epoch 16/20\n",
      "148/148 [==============================] - 32s 216ms/step - loss: 0.0779 - accuracy: 0.9732 - val_loss: 0.2467 - val_accuracy: 0.9221 - lr: 0.0010\n"
     ]
    }
   ],
   "source": [
    "# Fitting in the model\n",
    "history = model_1.fit(X_train,y_train,epochs = 20,batch_size=64,validation_data = (X_test,y_test),callbacks = [callbacks])"
   ]
  },
  {
   "cell_type": "code",
   "execution_count": 23,
   "id": "05dae0cf",
   "metadata": {
    "execution": {
     "iopub.execute_input": "2023-05-31T07:16:59.759145Z",
     "iopub.status.busy": "2023-05-31T07:16:59.758706Z",
     "iopub.status.idle": "2023-05-31T07:16:59.762791Z",
     "shell.execute_reply": "2023-05-31T07:16:59.762030Z"
    },
    "papermill": {
     "duration": 0.241356,
     "end_time": "2023-05-31T07:16:59.765048",
     "exception": false,
     "start_time": "2023-05-31T07:16:59.523692",
     "status": "completed"
    },
    "tags": []
   },
   "outputs": [],
   "source": [
    "from tensorflow.keras.models import load_model"
   ]
  },
  {
   "cell_type": "code",
   "execution_count": 24,
   "id": "d22a4dd6",
   "metadata": {
    "execution": {
     "iopub.execute_input": "2023-05-31T07:17:00.310422Z",
     "iopub.status.busy": "2023-05-31T07:17:00.309542Z",
     "iopub.status.idle": "2023-05-31T07:17:00.765271Z",
     "shell.execute_reply": "2023-05-31T07:17:00.763910Z"
    },
    "papermill": {
     "duration": 0.696414,
     "end_time": "2023-05-31T07:17:00.768231",
     "exception": false,
     "start_time": "2023-05-31T07:17:00.071817",
     "status": "completed"
    },
    "tags": []
   },
   "outputs": [
    {
     "data": {
      "image/png": "[encoded data removed]",
      "text/plain": [
       "<Figure size 600x400 with 1 Axes>"
      ]
     },
     "metadata": {},
     "output_type": "display_data"
    }
   ],
   "source": [
    "#plotting validation and training accuracy and loss\n",
    "\n",
    "epochs=20\n",
    "plt.figure(figsize=(6, 4))\n",
    "plt.plot(history.history['accuracy'], color='g', label=\"Training accuracy\")\n",
    "plt.plot(history.history['val_accuracy'], color='r',label=\"Validation accuracy\")\n",
    "plt.xticks(np.arange(1, epochs, 1))\n",
    "plt.xlabel('Number of Epochs')\n",
    "plt.ylabel('Accuracy')\n",
    "\n",
    "legend = plt.legend(loc='best', shadow=True)\n",
    "plt.tight_layout()\n",
    "plt.show()"
   ]
  },
  {
   "cell_type": "code",
   "execution_count": 25,
   "id": "9bd02444",
   "metadata": {
    "execution": {
     "iopub.execute_input": "2023-05-31T07:17:01.277380Z",
     "iopub.status.busy": "2023-05-31T07:17:01.276737Z",
     "iopub.status.idle": "2023-05-31T07:17:01.713138Z",
     "shell.execute_reply": "2023-05-31T07:17:01.711880Z"
    },
    "papermill": {
     "duration": 0.708567,
     "end_time": "2023-05-31T07:17:01.715821",
     "exception": false,
     "start_time": "2023-05-31T07:17:01.007254",
     "status": "completed"
    },
    "tags": []
   },
   "outputs": [
    {
     "data": {
      "image/png": "[encoded data removed]",
      "text/plain": [
       "<Figure size 600x400 with 1 Axes>"
      ]
     },
     "metadata": {},
     "output_type": "display_data"
    }
   ],
   "source": [
    "plt.figure(figsize=(6, 4))\n",
    "plt.plot(history.history['loss'], color='g', label=\"Training loss\")\n",
    "plt.plot(history.history['val_loss'], color='r',label=\"Validation loss\")\n",
    "plt.xticks(np.arange(1, epochs, 1))\n",
    "plt.xlabel('Number of Epochs')\n",
    "plt.ylabel('Loss')\n",
    "\n",
    "legend = plt.legend(loc='best', shadow=True)\n",
    "plt.tight_layout()\n",
    "plt.show()"
   ]
  },
  {
   "cell_type": "code",
   "execution_count": 26,
   "id": "99c1cbb8",
   "metadata": {
    "execution": {
     "iopub.execute_input": "2023-05-31T07:17:02.197827Z",
     "iopub.status.busy": "2023-05-31T07:17:02.197416Z",
     "iopub.status.idle": "2023-05-31T07:17:07.090426Z",
     "shell.execute_reply": "2023-05-31T07:17:07.089188Z"
    },
    "papermill": {
     "duration": 5.138628,
     "end_time": "2023-05-31T07:17:07.093062",
     "exception": false,
     "start_time": "2023-05-31T07:17:01.954434",
     "status": "completed"
    },
    "tags": []
   },
   "outputs": [
    {
     "name": "stdout",
     "output_type": "stream",
     "text": [
      "74/74 [==============================] - 5s 58ms/step\n"
     ]
    }
   ],
   "source": [
    "# Prediction\n",
    "y_pred_1 = model_1.predict(X_test)"
   ]
  },
  {
   "cell_type": "code",
   "execution_count": 27,
   "id": "2c0207db",
   "metadata": {
    "execution": {
     "iopub.execute_input": "2023-05-31T07:17:07.586928Z",
     "iopub.status.busy": "2023-05-31T07:17:07.586521Z",
     "iopub.status.idle": "2023-05-31T07:17:07.596372Z",
     "shell.execute_reply": "2023-05-31T07:17:07.595515Z"
    },
    "papermill": {
     "duration": 0.261264,
     "end_time": "2023-05-31T07:17:07.598441",
     "exception": false,
     "start_time": "2023-05-31T07:17:07.337177",
     "status": "completed"
    },
    "tags": []
   },
   "outputs": [
    {
     "name": "stdout",
     "output_type": "stream",
     "text": [
      "[[ 585   76]\n",
      " [  84 1617]]\n",
      "0.9322607959356477\n"
     ]
    }
   ],
   "source": [
    "# Confusion matrix on our prediction by model_1\n",
    "from sklearn.metrics import confusion_matrix, accuracy_score\n",
    "cm = confusion_matrix(np.argmax(y_test,axis=1), np.argmax(y_pred_1,axis=1))\n",
    "print(cm)\n",
    "print(accuracy_score(np.argmax(y_test,axis=1), np.argmax(y_pred_1,axis=1)))"
   ]
  }
 ],
 "metadata": {
  "kernelspec": {
   "display_name": "Python 3",
   "language": "python",
   "name": "python3"
  },
  "language_info": {
   "codemirror_mode": {
    "name": "ipython",
    "version": 3
   },
   "file_extension": ".py",
   "mimetype": "text/x-python",
   "name": "python",
   "nbconvert_exporter": "python",
   "pygments_lexer": "ipython3",
   "version": "3.10.10"
  },
  "papermill": {
   "default_parameters": {},
   "duration": 549.041474,
   "end_time": "2023-05-31T07:17:11.363213",
   "environment_variables": {},
   "exception": null,
   "input_path": "__notebook__.ipynb",
   "output_path": "__notebook__.ipynb",
   "parameters": {},
   "start_time": "2023-05-31T07:08:02.321739",
   "version": "2.4.0"
  }
 },
 "nbformat": 4,
 "nbformat_minor": 5
}

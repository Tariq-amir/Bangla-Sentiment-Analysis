{
 "cells": [
  {
   "cell_type": "code",
   "execution_count": 1,
   "id": "64c9f055",
   "metadata": {
    "_cell_guid": "b1076dfc-b9ad-4769-8c92-a6c4dae69d19",
    "_uuid": "8f2839f25d086af736a60e9eeb907d3b93b6e0e5",
    "execution": {
     "iopub.execute_input": "2023-05-31T06:25:52.631721Z",
     "iopub.status.busy": "2023-05-31T06:25:52.631165Z",
     "iopub.status.idle": "2023-05-31T06:25:52.664236Z",
     "shell.execute_reply": "2023-05-31T06:25:52.663025Z"
    },
    "papermill": {
     "duration": 0.047524,
     "end_time": "2023-05-31T06:25:52.667229",
     "exception": false,
     "start_time": "2023-05-31T06:25:52.619705",
     "status": "completed"
    },
    "tags": []
   },
   "outputs": [
    {
     "name": "stdout",
     "output_type": "stream",
     "text": [
      "/kaggle/input/bnlpsentiment-analysis/bn_glove.39M.100d.txt\n",
      "/kaggle/input/bnlpsentiment-analysis/bnwiki_word2vec.model.syn1neg.npy\n",
      "/kaggle/input/bnlpsentiment-analysis/bnwiki_word2vec.vector\n",
      "/kaggle/input/bnlpsentiment-analysis/bnwiki_word2vec.model.wv.vectors.npy\n",
      "/kaggle/input/bnlpsentiment-analysis/banglasentimentanalysis.csv\n",
      "/kaggle/input/bnlpsentiment-analysis/bnwiki_word2vec.model\n"
     ]
    }
   ],
   "source": [
    "# This Python 3 environment comes with many helpful analytics libraries installed\n",
    "# It is defined by the kaggle/python Docker image: https://github.com/kaggle/docker-python\n",
    "# For example, here's several helpful packages to load\n",
    "\n",
    "import numpy as np # linear algebra\n",
    "import pandas as pd # data processing, CSV file I/O (e.g. pd.read_csv)\n",
    "\n",
    "# Input data files are available in the read-only \"../input/\" directory\n",
    "# For example, running this (by clicking run or pressing Shift+Enter) will list all files under the input directory\n",
    "\n",
    "import os\n",
    "for dirname, _, filenames in os.walk('/kaggle/input'):\n",
    "    for filename in filenames:\n",
    "        print(os.path.join(dirname, filename))\n",
    "\n",
    "# You can write up to 20GB to the current directory (/kaggle/working/) that gets preserved as output when you create a version using \"Save & Run All\" \n",
    "# You can also write temporary files to /kaggle/temp/, but they won't be saved outside of the current session"
   ]
  },
  {
   "cell_type": "code",
   "execution_count": 2,
   "id": "98b33932",
   "metadata": {
    "execution": {
     "iopub.execute_input": "2023-05-31T06:25:52.687730Z",
     "iopub.status.busy": "2023-05-31T06:25:52.687356Z",
     "iopub.status.idle": "2023-05-31T06:26:04.442540Z",
     "shell.execute_reply": "2023-05-31T06:26:04.441461Z"
    },
    "papermill": {
     "duration": 11.76837,
     "end_time": "2023-05-31T06:26:04.445160",
     "exception": false,
     "start_time": "2023-05-31T06:25:52.676790",
     "status": "completed"
    },
    "tags": []
   },
   "outputs": [
    {
     "name": "stderr",
     "output_type": "stream",
     "text": [
      "/opt/conda/lib/python3.10/site-packages/tensorflow_io/python/ops/__init__.py:98: UserWarning: unable to load libtensorflow_io_plugins.so: unable to open file: libtensorflow_io_plugins.so, from paths: ['/opt/conda/lib/python3.10/site-packages/tensorflow_io/python/ops/libtensorflow_io_plugins.so']\n",
      "caused by: ['/opt/conda/lib/python3.10/site-packages/tensorflow_io/python/ops/libtensorflow_io_plugins.so: undefined symbol: _ZN3tsl6StatusC1EN10tensorflow5error4CodeESt17basic_string_viewIcSt11char_traitsIcEENS_14SourceLocationE']\n",
      "  warnings.warn(f\"unable to load libtensorflow_io_plugins.so: {e}\")\n",
      "/opt/conda/lib/python3.10/site-packages/tensorflow_io/python/ops/__init__.py:104: UserWarning: file system plugins are not loaded: unable to open file: libtensorflow_io.so, from paths: ['/opt/conda/lib/python3.10/site-packages/tensorflow_io/python/ops/libtensorflow_io.so']\n",
      "caused by: ['/opt/conda/lib/python3.10/site-packages/tensorflow_io/python/ops/libtensorflow_io.so: undefined symbol: _ZTVN10tensorflow13GcsFileSystemE']\n",
      "  warnings.warn(f\"file system plugins are not loaded: {e}\")\n"
     ]
    }
   ],
   "source": [
    "#Importing dependencies\n",
    "import seaborn as sns\n",
    "import tensorflow as tf\n",
    "from tensorflow.keras.preprocessing.text import Tokenizer\n",
    "from tensorflow.keras.preprocessing.sequence import pad_sequences\n",
    "from keras.utils import to_categorical\n",
    "import matplotlib.pyplot as plt\n",
    "\n",
    "# Training \n",
    "from tensorflow.keras.layers import Embedding\n",
    "from tensorflow.keras.preprocessing.sequence import pad_sequences\n",
    "from tensorflow.keras.preprocessing.text import one_hot\n",
    "from tensorflow.keras.models import Sequential\n",
    "from tensorflow.keras.layers import LSTM,GRU\n",
    "from tensorflow.keras.layers import Dense\n",
    "from tensorflow.keras.layers import Dropout\n",
    "from tensorflow.keras.layers import Bidirectional\n",
    "from tensorflow.keras.layers import Conv1D\n",
    "from tensorflow.keras.layers import MaxPooling1D,GlobalMaxPool1D\n",
    "from tensorflow.keras.regularizers import l2"
   ]
  },
  {
   "cell_type": "code",
   "execution_count": 3,
   "id": "f04ef00b",
   "metadata": {
    "execution": {
     "iopub.execute_input": "2023-05-31T06:26:04.466200Z",
     "iopub.status.busy": "2023-05-31T06:26:04.465377Z",
     "iopub.status.idle": "2023-05-31T06:26:04.621252Z",
     "shell.execute_reply": "2023-05-31T06:26:04.619979Z"
    },
    "papermill": {
     "duration": 0.169297,
     "end_time": "2023-05-31T06:26:04.623979",
     "exception": false,
     "start_time": "2023-05-31T06:26:04.454682",
     "status": "completed"
    },
    "tags": []
   },
   "outputs": [
    {
     "data": {
      "text/html": [
       "<div>\n",
       "<style scoped>\n",
       "    .dataframe tbody tr th:only-of-type {\n",
       "        vertical-align: middle;\n",
       "    }\n",
       "\n",
       "    .dataframe tbody tr th {\n",
       "        vertical-align: top;\n",
       "    }\n",
       "\n",
       "    .dataframe thead th {\n",
       "        text-align: right;\n",
       "    }\n",
       "</style>\n",
       "<table border=\"1\" class=\"dataframe\">\n",
       "  <thead>\n",
       "    <tr style=\"text-align: right;\">\n",
       "      <th></th>\n",
       "      <th>Unnamed: 0</th>\n",
       "      <th>Reviews</th>\n",
       "      <th>Label</th>\n",
       "    </tr>\n",
       "  </thead>\n",
       "  <tbody>\n",
       "    <tr>\n",
       "      <th>0</th>\n",
       "      <td>0</td>\n",
       "      <td>অনেক সুন্দর নাটক</td>\n",
       "      <td>1.0</td>\n",
       "    </tr>\n",
       "    <tr>\n",
       "      <th>1</th>\n",
       "      <td>1</td>\n",
       "      <td>সত্যি গল্পটা অনেক ভালো ছিল।কিছু কিছু মানুসের ...</td>\n",
       "      <td>1.0</td>\n",
       "    </tr>\n",
       "    <tr>\n",
       "      <th>2</th>\n",
       "      <td>2</td>\n",
       "      <td>ভাদামো মোসারফ করিম। 🤤</td>\n",
       "      <td>0.0</td>\n",
       "    </tr>\n",
       "    <tr>\n",
       "      <th>3</th>\n",
       "      <td>3</td>\n",
       "      <td>বালের নাটক</td>\n",
       "      <td>0.0</td>\n",
       "    </tr>\n",
       "    <tr>\n",
       "      <th>4</th>\n",
       "      <td>4</td>\n",
       "      <td>ফালতু নাটক</td>\n",
       "      <td>0.0</td>\n",
       "    </tr>\n",
       "  </tbody>\n",
       "</table>\n",
       "</div>"
      ],
      "text/plain": [
       "   Unnamed: 0                                            Reviews  Label\n",
       "0           0                                   অনেক সুন্দর নাটক    1.0\n",
       "1           1   সত্যি গল্পটা অনেক ভালো ছিল।কিছু কিছু মানুসের ...    1.0\n",
       "2           2                              ভাদামো মোসারফ করিম। 🤤    0.0\n",
       "3           3                                         বালের নাটক    0.0\n",
       "4           4                                         ফালতু নাটক    0.0"
      ]
     },
     "execution_count": 3,
     "metadata": {},
     "output_type": "execute_result"
    }
   ],
   "source": [
    "df = pd.read_csv('/kaggle/input/bnlpsentiment-analysis/banglasentimentanalysis.csv')\n",
    "df.head()"
   ]
  },
  {
   "cell_type": "code",
   "execution_count": 4,
   "id": "e50ff8ea",
   "metadata": {
    "execution": {
     "iopub.execute_input": "2023-05-31T06:26:04.646963Z",
     "iopub.status.busy": "2023-05-31T06:26:04.646531Z",
     "iopub.status.idle": "2023-05-31T06:26:04.665998Z",
     "shell.execute_reply": "2023-05-31T06:26:04.664946Z"
    },
    "papermill": {
     "duration": 0.032939,
     "end_time": "2023-05-31T06:26:04.668248",
     "exception": false,
     "start_time": "2023-05-31T06:26:04.635309",
     "status": "completed"
    },
    "tags": []
   },
   "outputs": [
    {
     "data": {
      "text/html": [
       "<div>\n",
       "<style scoped>\n",
       "    .dataframe tbody tr th:only-of-type {\n",
       "        vertical-align: middle;\n",
       "    }\n",
       "\n",
       "    .dataframe tbody tr th {\n",
       "        vertical-align: top;\n",
       "    }\n",
       "\n",
       "    .dataframe thead th {\n",
       "        text-align: right;\n",
       "    }\n",
       "</style>\n",
       "<table border=\"1\" class=\"dataframe\">\n",
       "  <thead>\n",
       "    <tr style=\"text-align: right;\">\n",
       "      <th></th>\n",
       "      <th>Reviews</th>\n",
       "      <th>Label</th>\n",
       "    </tr>\n",
       "  </thead>\n",
       "  <tbody>\n",
       "    <tr>\n",
       "      <th>0</th>\n",
       "      <td>অনেক সুন্দর নাটক</td>\n",
       "      <td>1.0</td>\n",
       "    </tr>\n",
       "    <tr>\n",
       "      <th>1</th>\n",
       "      <td>সত্যি গল্পটা অনেক ভালো ছিল।কিছু কিছু মানুসের ...</td>\n",
       "      <td>1.0</td>\n",
       "    </tr>\n",
       "    <tr>\n",
       "      <th>2</th>\n",
       "      <td>ভাদামো মোসারফ করিম। 🤤</td>\n",
       "      <td>0.0</td>\n",
       "    </tr>\n",
       "    <tr>\n",
       "      <th>3</th>\n",
       "      <td>বালের নাটক</td>\n",
       "      <td>0.0</td>\n",
       "    </tr>\n",
       "    <tr>\n",
       "      <th>4</th>\n",
       "      <td>ফালতু নাটক</td>\n",
       "      <td>0.0</td>\n",
       "    </tr>\n",
       "  </tbody>\n",
       "</table>\n",
       "</div>"
      ],
      "text/plain": [
       "                                             Reviews  Label\n",
       "0                                   অনেক সুন্দর নাটক    1.0\n",
       "1   সত্যি গল্পটা অনেক ভালো ছিল।কিছু কিছু মানুসের ...    1.0\n",
       "2                              ভাদামো মোসারফ করিম। 🤤    0.0\n",
       "3                                         বালের নাটক    0.0\n",
       "4                                         ফালতু নাটক    0.0"
      ]
     },
     "execution_count": 4,
     "metadata": {},
     "output_type": "execute_result"
    }
   ],
   "source": [
    "#Removing index column\n",
    "# df = pd.DataFrame(df)\n",
    "df = df.drop(['Unnamed: 0'],axis=1)\n",
    "df.head()"
   ]
  },
  {
   "cell_type": "code",
   "execution_count": 5,
   "id": "294bfe68",
   "metadata": {
    "execution": {
     "iopub.execute_input": "2023-05-31T06:26:04.689662Z",
     "iopub.status.busy": "2023-05-31T06:26:04.689247Z",
     "iopub.status.idle": "2023-05-31T06:26:04.704601Z",
     "shell.execute_reply": "2023-05-31T06:26:04.703377Z"
    },
    "papermill": {
     "duration": 0.029394,
     "end_time": "2023-05-31T06:26:04.707513",
     "exception": false,
     "start_time": "2023-05-31T06:26:04.678119",
     "status": "completed"
    },
    "tags": []
   },
   "outputs": [
    {
     "data": {
      "text/plain": [
       "Reviews    4\n",
       "Label      2\n",
       "dtype: int64"
      ]
     },
     "execution_count": 5,
     "metadata": {},
     "output_type": "execute_result"
    }
   ],
   "source": [
    "# Null value check\n",
    "df.isnull().sum()"
   ]
  },
  {
   "cell_type": "code",
   "execution_count": 6,
   "id": "ee7aa4e7",
   "metadata": {
    "execution": {
     "iopub.execute_input": "2023-05-31T06:26:04.729284Z",
     "iopub.status.busy": "2023-05-31T06:26:04.728897Z",
     "iopub.status.idle": "2023-05-31T06:26:04.751491Z",
     "shell.execute_reply": "2023-05-31T06:26:04.750424Z"
    },
    "papermill": {
     "duration": 0.036144,
     "end_time": "2023-05-31T06:26:04.753795",
     "exception": false,
     "start_time": "2023-05-31T06:26:04.717651",
     "status": "completed"
    },
    "tags": []
   },
   "outputs": [
    {
     "data": {
      "text/plain": [
       "Reviews    0\n",
       "Label      0\n",
       "dtype: int64"
      ]
     },
     "execution_count": 6,
     "metadata": {},
     "output_type": "execute_result"
    }
   ],
   "source": [
    "df.dropna(axis=0, how='any', subset=['Reviews', 'Label'], inplace=True)\n",
    "df.isnull().sum()"
   ]
  },
  {
   "cell_type": "code",
   "execution_count": 7,
   "id": "93920d5f",
   "metadata": {
    "execution": {
     "iopub.execute_input": "2023-05-31T06:26:04.776949Z",
     "iopub.status.busy": "2023-05-31T06:26:04.776528Z",
     "iopub.status.idle": "2023-05-31T06:26:04.788054Z",
     "shell.execute_reply": "2023-05-31T06:26:04.786820Z"
    },
    "papermill": {
     "duration": 0.026458,
     "end_time": "2023-05-31T06:26:04.790532",
     "exception": false,
     "start_time": "2023-05-31T06:26:04.764074",
     "status": "completed"
    },
    "tags": []
   },
   "outputs": [
    {
     "name": "stdout",
     "output_type": "stream",
     "text": [
      "[1. 0.]\n",
      "[1 0]\n"
     ]
    }
   ],
   "source": [
    "# Changing the 'Label' type\n",
    "print(df.Label.unique())\n",
    "df[\"Label\"]=df[\"Label\"].astype(int)\n",
    "print(df.Label.unique())"
   ]
  },
  {
   "cell_type": "code",
   "execution_count": 8,
   "id": "320d8040",
   "metadata": {
    "execution": {
     "iopub.execute_input": "2023-05-31T06:26:04.812616Z",
     "iopub.status.busy": "2023-05-31T06:26:04.812222Z",
     "iopub.status.idle": "2023-05-31T06:26:05.099987Z",
     "shell.execute_reply": "2023-05-31T06:26:05.098797Z"
    },
    "papermill": {
     "duration": 0.301702,
     "end_time": "2023-05-31T06:26:05.102429",
     "exception": false,
     "start_time": "2023-05-31T06:26:04.800727",
     "status": "completed"
    },
    "tags": []
   },
   "outputs": [
    {
     "data": {
      "text/plain": [
       "<Axes: xlabel='Label', ylabel='count'>"
      ]
     },
     "execution_count": 8,
     "metadata": {},
     "output_type": "execute_result"
    },
    {
     "data": {
      "image/png": "[encoded data removed]",
      "text/plain": [
       "<Figure size 640x480 with 1 Axes>"
      ]
     },
     "metadata": {},
     "output_type": "display_data"
    }
   ],
   "source": [
    "# Check if oversampling or undersampling required\n",
    "sns.countplot(x=\"Label\",data = df)"
   ]
  },
  {
   "cell_type": "code",
   "execution_count": 9,
   "id": "b3bfef53",
   "metadata": {
    "execution": {
     "iopub.execute_input": "2023-05-31T06:26:05.125654Z",
     "iopub.status.busy": "2023-05-31T06:26:05.125278Z",
     "iopub.status.idle": "2023-05-31T06:26:05.130411Z",
     "shell.execute_reply": "2023-05-31T06:26:05.129137Z"
    },
    "papermill": {
     "duration": 0.019762,
     "end_time": "2023-05-31T06:26:05.132883",
     "exception": false,
     "start_time": "2023-05-31T06:26:05.113121",
     "status": "completed"
    },
    "tags": []
   },
   "outputs": [],
   "source": [
    "review = df.Reviews\n",
    "label = df.Label"
   ]
  },
  {
   "cell_type": "code",
   "execution_count": 10,
   "id": "b2405269",
   "metadata": {
    "execution": {
     "iopub.execute_input": "2023-05-31T06:26:05.156783Z",
     "iopub.status.busy": "2023-05-31T06:26:05.156381Z",
     "iopub.status.idle": "2023-05-31T06:26:05.849561Z",
     "shell.execute_reply": "2023-05-31T06:26:05.848338Z"
    },
    "papermill": {
     "duration": 0.708359,
     "end_time": "2023-05-31T06:26:05.852304",
     "exception": false,
     "start_time": "2023-05-31T06:26:05.143945",
     "status": "completed"
    },
    "tags": []
   },
   "outputs": [
    {
     "data": {
      "text/plain": [
       "19127"
      ]
     },
     "execution_count": 10,
     "metadata": {},
     "output_type": "execute_result"
    }
   ],
   "source": [
    "# Tokenizing the given reviews\n",
    "max_words = 4000\n",
    "max_review_len = 128\n",
    "tokenizer = Tokenizer(num_words=max_words)\n",
    "tokenizer.fit_on_texts(review)\n",
    "# word_index\n",
    "sequences = tokenizer.texts_to_sequences(review)\n",
    "word_index = tokenizer.word_index\n",
    "# word_index\n",
    "len(word_index)"
   ]
  },
  {
   "cell_type": "code",
   "execution_count": 11,
   "id": "1a9e3a60",
   "metadata": {
    "execution": {
     "iopub.execute_input": "2023-05-31T06:26:05.875582Z",
     "iopub.status.busy": "2023-05-31T06:26:05.875178Z",
     "iopub.status.idle": "2023-05-31T06:26:05.887079Z",
     "shell.execute_reply": "2023-05-31T06:26:05.886025Z"
    },
    "papermill": {
     "duration": 0.026256,
     "end_time": "2023-05-31T06:26:05.889461",
     "exception": false,
     "start_time": "2023-05-31T06:26:05.863205",
     "status": "completed"
    },
    "tags": []
   },
   "outputs": [
    {
     "data": {
      "text/plain": [
       "219"
      ]
     },
     "execution_count": 11,
     "metadata": {},
     "output_type": "execute_result"
    }
   ],
   "source": [
    "# Maximum words in a sequence\n",
    "max_length = 0\n",
    "\n",
    "for review_num in range(len(sequences)):\n",
    "#     print(len(onehot_rep[review_num]))\n",
    "    if len(sequences[review_num]) > max_length:\n",
    "        max_length = len(sequences[review_num])\n",
    "max_length"
   ]
  },
  {
   "cell_type": "code",
   "execution_count": 12,
   "id": "9e716f8e",
   "metadata": {
    "execution": {
     "iopub.execute_input": "2023-05-31T06:26:05.913099Z",
     "iopub.status.busy": "2023-05-31T06:26:05.912675Z",
     "iopub.status.idle": "2023-05-31T06:26:05.982912Z",
     "shell.execute_reply": "2023-05-31T06:26:05.981649Z"
    },
    "papermill": {
     "duration": 0.084966,
     "end_time": "2023-05-31T06:26:05.985257",
     "exception": false,
     "start_time": "2023-05-31T06:26:05.900291",
     "status": "completed"
    },
    "tags": []
   },
   "outputs": [
    {
     "name": "stdout",
     "output_type": "stream",
     "text": [
      "[[   0    0    0 ...    3    5    1]\n",
      " [   0    0    0 ...  654   70  905]\n",
      " [   0    0    0 ...    0 1743 3439]\n",
      " ...\n",
      " [   0    0    0 ...   14   55    8]\n",
      " [   0    0    0 ...   48   20  556]\n",
      " [   0    0    0 ...   92  407  596]]\n"
     ]
    },
    {
     "data": {
      "text/plain": [
       "(11807, 128)"
      ]
     },
     "execution_count": 12,
     "metadata": {},
     "output_type": "execute_result"
    }
   ],
   "source": [
    "# Padding the sequence\n",
    "data = pad_sequences(sequences, maxlen=max_review_len)\n",
    "print(data)\n",
    "data.shape"
   ]
  },
  {
   "cell_type": "code",
   "execution_count": 13,
   "id": "1ec89f23",
   "metadata": {
    "execution": {
     "iopub.execute_input": "2023-05-31T06:26:06.009233Z",
     "iopub.status.busy": "2023-05-31T06:26:06.008811Z",
     "iopub.status.idle": "2023-05-31T06:26:12.689715Z",
     "shell.execute_reply": "2023-05-31T06:26:12.688569Z"
    },
    "papermill": {
     "duration": 6.695981,
     "end_time": "2023-05-31T06:26:12.692243",
     "exception": false,
     "start_time": "2023-05-31T06:26:05.996262",
     "status": "completed"
    },
    "tags": []
   },
   "outputs": [
    {
     "data": {
      "text/plain": [
       "178153"
      ]
     },
     "execution_count": 13,
     "metadata": {},
     "output_type": "execute_result"
    }
   ],
   "source": [
    "# Embedding\n",
    "file = open('/kaggle/input/bnlpsentiment-analysis/bn_glove.39M.100d.txt')\n",
    "embedding_list = {}\n",
    "for i in file:\n",
    "    line = i.split()\n",
    "#     print(line[0])\n",
    "    word = line[0]\n",
    "    values = np.asarray(line[1:], dtype='float32')\n",
    "    embedding_list[word] = values\n",
    "file.close()\n",
    "# embedding_list['এবং'].dtype\n",
    "len(embedding_list)"
   ]
  },
  {
   "cell_type": "code",
   "execution_count": 14,
   "id": "9cd9c26c",
   "metadata": {
    "execution": {
     "iopub.execute_input": "2023-05-31T06:26:12.717315Z",
     "iopub.status.busy": "2023-05-31T06:26:12.716870Z",
     "iopub.status.idle": "2023-05-31T06:26:12.725007Z",
     "shell.execute_reply": "2023-05-31T06:26:12.723922Z"
    },
    "papermill": {
     "duration": 0.023201,
     "end_time": "2023-05-31T06:26:12.727289",
     "exception": false,
     "start_time": "2023-05-31T06:26:12.704088",
     "status": "completed"
    },
    "tags": []
   },
   "outputs": [
    {
     "data": {
      "text/plain": [
       "(19128, 100)"
      ]
     },
     "execution_count": 14,
     "metadata": {},
     "output_type": "execute_result"
    }
   ],
   "source": [
    "embedding_dim = 100 \n",
    "embedding_matrix = np.zeros((len(word_index)+1, embedding_dim))\n",
    "embedding_matrix.shape"
   ]
  },
  {
   "cell_type": "code",
   "execution_count": 15,
   "id": "939ed6a8",
   "metadata": {
    "execution": {
     "iopub.execute_input": "2023-05-31T06:26:12.752705Z",
     "iopub.status.busy": "2023-05-31T06:26:12.752279Z",
     "iopub.status.idle": "2023-05-31T06:26:12.799185Z",
     "shell.execute_reply": "2023-05-31T06:26:12.798106Z"
    },
    "papermill": {
     "duration": 0.06292,
     "end_time": "2023-05-31T06:26:12.801720",
     "exception": false,
     "start_time": "2023-05-31T06:26:12.738800",
     "status": "completed"
    },
    "tags": []
   },
   "outputs": [
    {
     "data": {
      "text/plain": [
       "(100,)"
      ]
     },
     "execution_count": 15,
     "metadata": {},
     "output_type": "execute_result"
    }
   ],
   "source": [
    "# Creating weight matrix of word\n",
    "for word,i in word_index.items():\n",
    "    embedding_vector = embedding_list.get(word)\n",
    "    if embedding_vector is not None:\n",
    "        embedding_matrix[i] = embedding_vector\n",
    "embedding_matrix[10].shape\n",
    "# word_index.items()"
   ]
  },
  {
   "cell_type": "code",
   "execution_count": 16,
   "id": "039d0d72",
   "metadata": {
    "execution": {
     "iopub.execute_input": "2023-05-31T06:26:12.826949Z",
     "iopub.status.busy": "2023-05-31T06:26:12.826541Z",
     "iopub.status.idle": "2023-05-31T06:26:12.830725Z",
     "shell.execute_reply": "2023-05-31T06:26:12.829885Z"
    },
    "papermill": {
     "duration": 0.019231,
     "end_time": "2023-05-31T06:26:12.832701",
     "exception": false,
     "start_time": "2023-05-31T06:26:12.813470",
     "status": "completed"
    },
    "tags": []
   },
   "outputs": [],
   "source": [
    "# Convolution\n",
    "kernel_size = 3\n",
    "filters = 32"
   ]
  },
  {
   "cell_type": "code",
   "execution_count": 17,
   "id": "a388d478",
   "metadata": {
    "execution": {
     "iopub.execute_input": "2023-05-31T06:26:12.858324Z",
     "iopub.status.busy": "2023-05-31T06:26:12.857098Z",
     "iopub.status.idle": "2023-05-31T06:26:14.054068Z",
     "shell.execute_reply": "2023-05-31T06:26:14.052990Z"
    },
    "papermill": {
     "duration": 1.212368,
     "end_time": "2023-05-31T06:26:14.056701",
     "exception": false,
     "start_time": "2023-05-31T06:26:12.844333",
     "status": "completed"
    },
    "tags": []
   },
   "outputs": [
    {
     "name": "stdout",
     "output_type": "stream",
     "text": [
      "Model: \"sequential\"\n",
      "_________________________________________________________________\n",
      " Layer (type)                Output Shape              Param #   \n",
      "=================================================================\n",
      " embedding (Embedding)       (None, 128, 100)          1912800   \n",
      "                                                                 \n",
      " lstm (LSTM)                 (None, 128, 128)          117248    \n",
      "                                                                 \n",
      " gru (GRU)                   (None, 128, 64)           37248     \n",
      "                                                                 \n",
      " conv1d (Conv1D)             (None, 128, 32)           6176      \n",
      "                                                                 \n",
      " global_max_pooling1d (Globa  (None, 32)               0         \n",
      " lMaxPooling1D)                                                  \n",
      "                                                                 \n",
      " dense (Dense)               (None, 32)                1056      \n",
      "                                                                 \n",
      " dropout (Dropout)           (None, 32)                0         \n",
      "                                                                 \n",
      " dense_1 (Dense)             (None, 2)                 66        \n",
      "                                                                 \n",
      "=================================================================\n",
      "Total params: 2,074,594\n",
      "Trainable params: 161,794\n",
      "Non-trainable params: 1,912,800\n",
      "_________________________________________________________________\n"
     ]
    },
    {
     "data": {
      "image/png": "[encoded data removed]",
      "text/plain": [
       "<IPython.core.display.Image object>"
      ]
     },
     "execution_count": 17,
     "metadata": {},
     "output_type": "execute_result"
    }
   ],
   "source": [
    "voc_size = len(word_index)+1\n",
    "\n",
    "model_1 = Sequential()\n",
    "model_1.add(Embedding(voc_size,embedding_dim,weights=[embedding_matrix],input_length=max_review_len,trainable=False))\n",
    "model_1.add(LSTM(128,dropout=0.2,return_sequences=True))\n",
    "model_1.add(GRU(64,dropout=0.2,return_sequences=True))\n",
    "model_1.add(Conv1D(filters, kernel_size, padding='same', activation='relu'))\n",
    "model_1.add(GlobalMaxPool1D())\n",
    "model_1.add(Dense(32,activation = 'relu',kernel_regularizer = l2(0.001)))\n",
    "model_1.add(Dropout(0.2))\n",
    "model_1.add(Dense(2,activation='softmax'))\n",
    "model_1.compile(loss='binary_crossentropy', optimizer='adam', metrics=['accuracy'])\n",
    "model_1.summary()\n",
    "tf.keras.utils.plot_model(model_1, to_file='model.png', show_shapes=True)"
   ]
  },
  {
   "cell_type": "code",
   "execution_count": 18,
   "id": "e701301e",
   "metadata": {
    "execution": {
     "iopub.execute_input": "2023-05-31T06:26:14.089596Z",
     "iopub.status.busy": "2023-05-31T06:26:14.089181Z",
     "iopub.status.idle": "2023-05-31T06:26:14.419250Z",
     "shell.execute_reply": "2023-05-31T06:26:14.417907Z"
    },
    "papermill": {
     "duration": 0.349613,
     "end_time": "2023-05-31T06:26:14.422115",
     "exception": false,
     "start_time": "2023-05-31T06:26:14.072502",
     "status": "completed"
    },
    "tags": []
   },
   "outputs": [],
   "source": [
    "# Splitting dataset for Training & Test\n",
    "from sklearn.model_selection import train_test_split\n",
    "x = data\n",
    "y = label\n",
    "X_train, X_test, y_train, y_test = train_test_split(x, y, test_size = 0.2, random_state = 0)"
   ]
  },
  {
   "cell_type": "code",
   "execution_count": 19,
   "id": "ef8ca171",
   "metadata": {
    "execution": {
     "iopub.execute_input": "2023-05-31T06:26:14.455991Z",
     "iopub.status.busy": "2023-05-31T06:26:14.454706Z",
     "iopub.status.idle": "2023-05-31T06:26:14.462460Z",
     "shell.execute_reply": "2023-05-31T06:26:14.460944Z"
    },
    "papermill": {
     "duration": 0.027211,
     "end_time": "2023-05-31T06:26:14.465048",
     "exception": false,
     "start_time": "2023-05-31T06:26:14.437837",
     "status": "completed"
    },
    "tags": []
   },
   "outputs": [
    {
     "name": "stdout",
     "output_type": "stream",
     "text": [
      "(9445, 128)\n",
      "(9445,)\n",
      "(2362, 128)\n",
      "(2362,)\n"
     ]
    }
   ],
   "source": [
    "print(X_train.shape)\n",
    "print(y_train.shape)\n",
    "print(X_test.shape)\n",
    "print(y_test.shape)"
   ]
  },
  {
   "cell_type": "code",
   "execution_count": 20,
   "id": "e5163fb7",
   "metadata": {
    "execution": {
     "iopub.execute_input": "2023-05-31T06:26:14.499051Z",
     "iopub.status.busy": "2023-05-31T06:26:14.497710Z",
     "iopub.status.idle": "2023-05-31T06:26:14.505524Z",
     "shell.execute_reply": "2023-05-31T06:26:14.504375Z"
    },
    "papermill": {
     "duration": 0.027216,
     "end_time": "2023-05-31T06:26:14.507899",
     "exception": false,
     "start_time": "2023-05-31T06:26:14.480683",
     "status": "completed"
    },
    "tags": []
   },
   "outputs": [
    {
     "name": "stdout",
     "output_type": "stream",
     "text": [
      "(9445, 128)\n",
      "(9445, 2)\n",
      "(2362, 128)\n",
      "(2362, 2)\n"
     ]
    }
   ],
   "source": [
    "y_test = to_categorical(y_test)\n",
    "y_train = to_categorical(y_train)\n",
    "\n",
    "print(X_train.shape)\n",
    "print(y_train.shape)\n",
    "print(X_test.shape)\n",
    "print(y_test.shape)"
   ]
  },
  {
   "cell_type": "code",
   "execution_count": 21,
   "id": "37414d9a",
   "metadata": {
    "execution": {
     "iopub.execute_input": "2023-05-31T06:26:14.541886Z",
     "iopub.status.busy": "2023-05-31T06:26:14.540888Z",
     "iopub.status.idle": "2023-05-31T06:26:14.547019Z",
     "shell.execute_reply": "2023-05-31T06:26:14.546137Z"
    },
    "papermill": {
     "duration": 0.025119,
     "end_time": "2023-05-31T06:26:14.549161",
     "exception": false,
     "start_time": "2023-05-31T06:26:14.524042",
     "status": "completed"
    },
    "tags": []
   },
   "outputs": [],
   "source": [
    "# Early stopping callback & reduction of learning rate\n",
    "from keras.callbacks import EarlyStopping,ReduceLROnPlateau\n",
    "early_stopping_callback = EarlyStopping(monitor='val_loss', patience=10, mode='min',restore_best_weights=True)\n",
    "learning_rate_reduction = ReduceLROnPlateau(monitor='loss',patience=4,verbose=1,factor=0.5,min_lr=0.00001)\n",
    "callbacks = [early_stopping_callback,learning_rate_reduction]"
   ]
  },
  {
   "cell_type": "code",
   "execution_count": 22,
   "id": "9b1efdf5",
   "metadata": {
    "execution": {
     "iopub.execute_input": "2023-05-31T06:26:14.582360Z",
     "iopub.status.busy": "2023-05-31T06:26:14.581595Z",
     "iopub.status.idle": "2023-05-31T06:39:47.732986Z",
     "shell.execute_reply": "2023-05-31T06:39:47.731750Z"
    },
    "papermill": {
     "duration": 813.170787,
     "end_time": "2023-05-31T06:39:47.735463",
     "exception": false,
     "start_time": "2023-05-31T06:26:14.564676",
     "status": "completed"
    },
    "tags": []
   },
   "outputs": [
    {
     "name": "stdout",
     "output_type": "stream",
     "text": [
      "Epoch 1/20\n",
      "148/148 [==============================] - 55s 334ms/step - loss: 0.4304 - accuracy: 0.8123 - val_loss: 0.2935 - val_accuracy: 0.8764 - lr: 0.0010\n",
      "Epoch 2/20\n",
      "148/148 [==============================] - 47s 321ms/step - loss: 0.2906 - accuracy: 0.8824 - val_loss: 0.2401 - val_accuracy: 0.9052 - lr: 0.0010\n",
      "Epoch 3/20\n",
      "148/148 [==============================] - 47s 317ms/step - loss: 0.2435 - accuracy: 0.9055 - val_loss: 0.2664 - val_accuracy: 0.8887 - lr: 0.0010\n",
      "Epoch 4/20\n",
      "148/148 [==============================] - 48s 322ms/step - loss: 0.2276 - accuracy: 0.9115 - val_loss: 0.2243 - val_accuracy: 0.9098 - lr: 0.0010\n",
      "Epoch 5/20\n",
      "148/148 [==============================] - 48s 323ms/step - loss: 0.2111 - accuracy: 0.9156 - val_loss: 0.2224 - val_accuracy: 0.9086 - lr: 0.0010\n",
      "Epoch 6/20\n",
      "148/148 [==============================] - 47s 318ms/step - loss: 0.1945 - accuracy: 0.9256 - val_loss: 0.2156 - val_accuracy: 0.9107 - lr: 0.0010\n",
      "Epoch 7/20\n",
      "148/148 [==============================] - 47s 318ms/step - loss: 0.1736 - accuracy: 0.9349 - val_loss: 0.2023 - val_accuracy: 0.9259 - lr: 0.0010\n",
      "Epoch 8/20\n",
      "148/148 [==============================] - 47s 318ms/step - loss: 0.1636 - accuracy: 0.9364 - val_loss: 0.2124 - val_accuracy: 0.9242 - lr: 0.0010\n",
      "Epoch 9/20\n",
      "148/148 [==============================] - 48s 322ms/step - loss: 0.1585 - accuracy: 0.9399 - val_loss: 0.2113 - val_accuracy: 0.9238 - lr: 0.0010\n",
      "Epoch 10/20\n",
      "148/148 [==============================] - 48s 323ms/step - loss: 0.1475 - accuracy: 0.9438 - val_loss: 0.2042 - val_accuracy: 0.9297 - lr: 0.0010\n",
      "Epoch 11/20\n",
      "148/148 [==============================] - 48s 322ms/step - loss: 0.1352 - accuracy: 0.9487 - val_loss: 0.2221 - val_accuracy: 0.9187 - lr: 0.0010\n",
      "Epoch 12/20\n",
      "148/148 [==============================] - 48s 322ms/step - loss: 0.1278 - accuracy: 0.9506 - val_loss: 0.2297 - val_accuracy: 0.9174 - lr: 0.0010\n",
      "Epoch 13/20\n",
      "148/148 [==============================] - 47s 320ms/step - loss: 0.1180 - accuracy: 0.9546 - val_loss: 0.2276 - val_accuracy: 0.9263 - lr: 0.0010\n",
      "Epoch 14/20\n",
      "148/148 [==============================] - 48s 323ms/step - loss: 0.1170 - accuracy: 0.9572 - val_loss: 0.2067 - val_accuracy: 0.9213 - lr: 0.0010\n",
      "Epoch 15/20\n",
      "148/148 [==============================] - 47s 319ms/step - loss: 0.0998 - accuracy: 0.9620 - val_loss: 0.2486 - val_accuracy: 0.9162 - lr: 0.0010\n",
      "Epoch 16/20\n",
      "148/148 [==============================] - 47s 317ms/step - loss: 0.0999 - accuracy: 0.9615 - val_loss: 0.2344 - val_accuracy: 0.9153 - lr: 0.0010\n",
      "Epoch 17/20\n",
      "148/148 [==============================] - 47s 320ms/step - loss: 0.0931 - accuracy: 0.9639 - val_loss: 0.2293 - val_accuracy: 0.9238 - lr: 0.0010\n"
     ]
    }
   ],
   "source": [
    "# Fitting in the model\n",
    "history = model_1.fit(X_train,y_train,epochs = 20,batch_size=64,validation_data = (X_test,y_test),callbacks = [callbacks])"
   ]
  },
  {
   "cell_type": "code",
   "execution_count": 23,
   "id": "52b05f30",
   "metadata": {
    "execution": {
     "iopub.execute_input": "2023-05-31T06:39:48.231562Z",
     "iopub.status.busy": "2023-05-31T06:39:48.230802Z",
     "iopub.status.idle": "2023-05-31T06:39:48.235807Z",
     "shell.execute_reply": "2023-05-31T06:39:48.234942Z"
    },
    "papermill": {
     "duration": 0.25745,
     "end_time": "2023-05-31T06:39:48.238142",
     "exception": false,
     "start_time": "2023-05-31T06:39:47.980692",
     "status": "completed"
    },
    "tags": []
   },
   "outputs": [],
   "source": [
    "from tensorflow.keras.models import load_model"
   ]
  },
  {
   "cell_type": "code",
   "execution_count": 24,
   "id": "9e860a66",
   "metadata": {
    "execution": {
     "iopub.execute_input": "2023-05-31T06:39:48.735952Z",
     "iopub.status.busy": "2023-05-31T06:39:48.735162Z",
     "iopub.status.idle": "2023-05-31T06:40:42.144106Z",
     "shell.execute_reply": "2023-05-31T06:40:42.142929Z"
    },
    "papermill": {
     "duration": 53.921008,
     "end_time": "2023-05-31T06:40:42.407298",
     "exception": false,
     "start_time": "2023-05-31T06:39:48.486290",
     "status": "completed"
    },
    "tags": []
   },
   "outputs": [
    {
     "data": {
      "image/png": "[encoded data removed]",
      "text/plain": [
       "<Figure size 600x400 with 1 Axes>"
      ]
     },
     "metadata": {},
     "output_type": "display_data"
    }
   ],
   "source": [
    "#plotting validation and training accuracy and loss\n",
    "\n",
    "epochs=20\n",
    "plt.figure(figsize=(6, 4))\n",
    "plt.plot(history.history['accuracy'], color='g', label=\"Training accuracy\")\n",
    "plt.plot(history.history['val_accuracy'], color='r',label=\"Validation accuracy\")\n",
    "plt.xticks(np.arange(1, epochs, 1))\n",
    "plt.xlabel('Number of Epochs')\n",
    "plt.ylabel('Accuracy')\n",
    "\n",
    "legend = plt.legend(loc='best', shadow=True)\n",
    "plt.tight_layout()\n",
    "plt.show()"
   ]
  },
  {
   "cell_type": "code",
   "execution_count": 25,
   "id": "a133a063",
   "metadata": {
    "execution": {
     "iopub.execute_input": "2023-05-31T06:40:42.917161Z",
     "iopub.status.busy": "2023-05-31T06:40:42.916372Z",
     "iopub.status.idle": "2023-05-31T06:40:43.334428Z",
     "shell.execute_reply": "2023-05-31T06:40:43.333244Z"
    },
    "papermill": {
     "duration": 0.672567,
     "end_time": "2023-05-31T06:40:43.336822",
     "exception": false,
     "start_time": "2023-05-31T06:40:42.664255",
     "status": "completed"
    },
    "tags": []
   },
   "outputs": [
    {
     "data": {
      "image/png": "[encoded data removed]",
      "text/plain": [
       "<Figure size 600x400 with 1 Axes>"
      ]
     },
     "metadata": {},
     "output_type": "display_data"
    }
   ],
   "source": [
    "plt.figure(figsize=(6, 4))\n",
    "plt.plot(history.history['loss'], color='g', label=\"Training loss\")\n",
    "plt.plot(history.history['val_loss'], color='r',label=\"Validation loss\")\n",
    "plt.xticks(np.arange(1, epochs, 1))\n",
    "plt.xlabel('Number of Epochs')\n",
    "plt.ylabel('Loss')\n",
    "\n",
    "legend = plt.legend(loc='best', shadow=True)\n",
    "plt.tight_layout()\n",
    "plt.show()"
   ]
  },
  {
   "cell_type": "code",
   "execution_count": 26,
   "id": "c19f8c58",
   "metadata": {
    "execution": {
     "iopub.execute_input": "2023-05-31T06:40:43.835469Z",
     "iopub.status.busy": "2023-05-31T06:40:43.834815Z",
     "iopub.status.idle": "2023-05-31T06:40:50.308154Z",
     "shell.execute_reply": "2023-05-31T06:40:50.306894Z"
    },
    "papermill": {
     "duration": 6.725022,
     "end_time": "2023-05-31T06:40:50.311207",
     "exception": false,
     "start_time": "2023-05-31T06:40:43.586185",
     "status": "completed"
    },
    "tags": []
   },
   "outputs": [
    {
     "name": "stdout",
     "output_type": "stream",
     "text": [
      "74/74 [==============================] - 6s 75ms/step\n"
     ]
    }
   ],
   "source": [
    "# Prediction\n",
    "y_pred_1 = model_1.predict(X_test)"
   ]
  },
  {
   "cell_type": "code",
   "execution_count": 27,
   "id": "12f052f6",
   "metadata": {
    "execution": {
     "iopub.execute_input": "2023-05-31T06:40:50.823833Z",
     "iopub.status.busy": "2023-05-31T06:40:50.823047Z",
     "iopub.status.idle": "2023-05-31T06:40:50.833719Z",
     "shell.execute_reply": "2023-05-31T06:40:50.832422Z"
    },
    "papermill": {
     "duration": 0.269256,
     "end_time": "2023-05-31T06:40:50.836078",
     "exception": false,
     "start_time": "2023-05-31T06:40:50.566822",
     "status": "completed"
    },
    "tags": []
   },
   "outputs": [
    {
     "name": "stdout",
     "output_type": "stream",
     "text": [
      "[[ 600   61]\n",
      " [ 114 1587]]\n",
      "0.9259102455546148\n"
     ]
    }
   ],
   "source": [
    "# Confusion matrix on our prediction by model_1\n",
    "from sklearn.metrics import confusion_matrix, accuracy_score\n",
    "cm = confusion_matrix(np.argmax(y_test,axis=1), np.argmax(y_pred_1,axis=1))\n",
    "print(cm)\n",
    "print(accuracy_score(np.argmax(y_test,axis=1), np.argmax(y_pred_1,axis=1)))"
   ]
  }
 ],
 "metadata": {
  "kernelspec": {
   "display_name": "Python 3",
   "language": "python",
   "name": "python3"
  },
  "language_info": {
   "codemirror_mode": {
    "name": "ipython",
    "version": 3
   },
   "file_extension": ".py",
   "mimetype": "text/x-python",
   "name": "python",
   "nbconvert_exporter": "python",
   "pygments_lexer": "ipython3",
   "version": "3.10.10"
  },
  "papermill": {
   "default_parameters": {},
   "duration": 914.318664,
   "end_time": "2023-05-31T06:40:54.124308",
   "environment_variables": {},
   "exception": null,
   "input_path": "__notebook__.ipynb",
   "output_path": "__notebook__.ipynb",
   "parameters": {},
   "start_time": "2023-05-31T06:25:39.805644",
   "version": "2.4.0"
  }
 },
 "nbformat": 4,
 "nbformat_minor": 5
}
